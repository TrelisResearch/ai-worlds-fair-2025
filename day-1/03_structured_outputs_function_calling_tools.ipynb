{
  "cells": [
    {
      "cell_type": "markdown",
      "id": "ed0cc784",
      "metadata": {
        "id": "ed0cc784"
      },
      "source": [
        "[![Open In Colab](https://colab.research.google.com/assets/colab-badge.svg)](https://colab.research.google.com/github/philschmid/gemini-2.5-ai-engineering-workshop/blob/main/notebooks/03-structured-outputs-function-calling-tools.ipynb)\n",
        "\n",
        "# Part 3: Structured Outputs, Function Calling & Native Tools\n",
        "\n",
        "This section covers three powerful capabilities of the Gemini API: structured outputs for extracting information into defined schemas, function calling for connecting to external tools and APIs, and native tools like Google Search for enhanced capabilities."
      ]
    },
    {
      "cell_type": "code",
      "execution_count": 20,
      "id": "e562211b",
      "metadata": {
        "id": "e562211b"
      },
      "outputs": [],
      "source": [
        "from google import genai\n",
        "from google.genai import types\n",
        "from pydantic import BaseModel\n",
        "from typing import List, Optional\n",
        "import sys\n",
        "import os\n",
        "from IPython.display import Image, Markdown\n",
        "\n",
        "IN_COLAB = 'google.colab' in sys.modules\n",
        "\n",
        "if IN_COLAB:\n",
        "    from google.colab import userdata\n",
        "    GEMINI_API_KEY = userdata.get('GEMINI_API_KEY')\n",
        "else:\n",
        "    GEMINI_API_KEY = os.environ.get('GEMINI_API_KEY',None)\n",
        "\n",
        "# Create client with api key\n",
        "MODEL_ID = \"gemini-2.5-flash-preview-05-20\"\n",
        "client = genai.Client(api_key=GEMINI_API_KEY)"
      ]
    },
    {
      "cell_type": "markdown",
      "id": "b98ebd5b",
      "metadata": {
        "id": "b98ebd5b"
      },
      "source": [
        "## 1. Structured Outputs\n",
        "\n",
        "Structured outputs allow you to constrain Gemini to respond with JSON in a specific format instead of unstructured text. This is essential for:\n",
        "- **Data extraction**: Converting unstructured text into structured data\n",
        "- **API integration**: Getting consistent formats for downstream processing  \n",
        "- **Database insertion**: Ensuring data matches your schema requirements\n",
        "- **Quality control**: Validating that responses contain required fields"
      ]
    },
    {
      "cell_type": "code",
      "execution_count": 21,
      "id": "66a5ac27",
      "metadata": {
        "id": "66a5ac27",
        "outputId": "8ced94a9-a4c4-4d35-8f55-8784cc51925b",
        "colab": {
          "base_uri": "https://localhost:8080/"
        }
      },
      "outputs": [
        {
          "output_type": "stream",
          "name": "stdout",
          "text": [
            "Recipe: Classic Chocolate Chip Cookies\n",
            "Ingredients: ['1 1/2 cups all-purpose flour', '1/2 teaspoon baking soda', '1/4 teaspoon salt', '1/2 cup unsalted butter, softened', '1/2 cup granulated sugar', '1/2 cup packed light brown sugar', '1 large egg', '1 teaspoon vanilla extract', '1 cup chocolate chips']\n",
            "Prep Time: 15 minutes\n",
            "Difficulty: Easy\n",
            "Servings: 24\n",
            "\n",
            "\n",
            "Recipe: Chewy Oatmeal Raisin Cookies\n",
            "Ingredients: ['1 1/4 cups all-purpose flour', '1 teaspoon baking soda', '1 teaspoon ground cinnamon', '1/2 teaspoon salt', '1/2 cup unsalted butter, softened', '3/4 cup packed light brown sugar', '1/4 cup granulated sugar', '1 large egg', '1 teaspoon vanilla extract', '1 1/2 cups rolled oats', '1 cup raisins']\n",
            "Prep Time: 20 minutes\n",
            "Difficulty: Medium\n",
            "Servings: 20\n",
            "\n",
            "\n"
          ]
        }
      ],
      "source": [
        "class Recipe(BaseModel):\n",
        "    recipe_name: str\n",
        "    ingredients: List[str]\n",
        "    prep_time_minutes: int\n",
        "    difficulty: str  # \"easy\", \"medium\", \"hard\"\n",
        "    servings: int\n",
        "\n",
        "class RecipeList(BaseModel):\n",
        "    recipes: List[Recipe]\n",
        "\n",
        "# Using Pydantic models for structured output\n",
        "response = client.models.generate_content(\n",
        "    model=MODEL_ID,\n",
        "    contents=\"Give me 2 popular cookie recipes with ingredients and prep details.\",\n",
        "    config=types.GenerateContentConfig(\n",
        "        response_mime_type=\"application/json\",\n",
        "        response_schema=RecipeList,\n",
        "    ),\n",
        ")\n",
        "\n",
        "# Get structured data directly\n",
        "recipes: List[Recipe] = response.parsed\n",
        "for recipe in recipes.recipes:\n",
        "    print(f\"Recipe: {recipe.recipe_name}\")\n",
        "    print(f\"Ingredients: {recipe.ingredients}\")\n",
        "    print(f\"Prep Time: {recipe.prep_time_minutes} minutes\")\n",
        "    print(f\"Difficulty: {recipe.difficulty}\")\n",
        "    print(f\"Servings: {recipe.servings}\")\n",
        "    print(\"\\n\")"
      ]
    },
    {
      "cell_type": "markdown",
      "id": "11647938",
      "metadata": {
        "id": "11647938"
      },
      "source": [
        "## !! Exercise: PDF to Structured Data !!\n",
        "\n",
        "Extract structured information from a PDF invoice or document using the Files API and structured outputs.\n",
        "\n",
        "Tasks:\n",
        "- A Pydantic schema (`InvoiceItem` and `InvoiceData`) and an example PDF file path (`../assets/data/rewe_invoice.pdf`) are provided. You can use this or replace it with your own PDF invoice.\n",
        "- Upload the PDF file using `client.files.upload()`.\n",
        "- Call `client.models.generate_content()`:\n",
        "- Access the parsed structured data from `response.parsed`."
      ]
    },
    {
      "cell_type": "code",
      "execution_count": null,
      "id": "5cbc0e89",
      "metadata": {
        "id": "5cbc0e89"
      },
      "outputs": [],
      "source": [
        "class InvoiceItem(BaseModel):\n",
        "    description: str\n",
        "    quantity: int\n",
        "    unit_price: float\n",
        "    total: float\n",
        "\n",
        "class InvoiceData(BaseModel):\n",
        "    invoice_number: str\n",
        "    date: str\n",
        "    vendor_name: str\n",
        "    vendor_address: str\n",
        "    total_amount: float\n",
        "    items: List[InvoiceItem]\n",
        "\n",
        "# Upload a PDF file (replace with your PDF path)\n",
        "pdf_file_path = \"../assets/data/rewe_invoice.pdf\"\n",
        "\n",
        "# TODO:"
      ]
    },
    {
      "cell_type": "markdown",
      "id": "aaeb2a48",
      "metadata": {
        "id": "aaeb2a48"
      },
      "source": [
        "## 2. Function Calling\n",
        "\n",
        "Function calling allows Gemini to intelligently decide when to call specific functions you define. This enables:\n",
        "- **External API integration**: Connect to weather, stocks, databases\n",
        "- **Dynamic calculations**: Perform real-time computations\n",
        "- **System interaction**: Execute commands or retrieve system information\n",
        "- **Multi-step workflows**: Chain function calls for complex tasks"
      ]
    },
    {
      "cell_type": "code",
      "execution_count": null,
      "id": "8c8862da",
      "metadata": {
        "id": "8c8862da"
      },
      "outputs": [],
      "source": [
        "def get_weather(location: str) -> dict:\n",
        "    \"\"\"Gets current weather for a location.\n",
        "\n",
        "    Args:\n",
        "        location: The city name, e.g. \"San Francisco\"\n",
        "\n",
        "    Returns:\n",
        "        Weather information dictionary\n",
        "    \"\"\"\n",
        "    # Mock weather data - in real use, you'd call a weather API\n",
        "    weather_data = {\n",
        "        \"temperature\": 22,\n",
        "        \"condition\": \"sunny\",\n",
        "        \"humidity\": 60,\n",
        "        \"location\": location,\n",
        "        \"feels_like\": 24\n",
        "    }\n",
        "    print(f\"🌤️ FUNCTION CALLED: get_weather(location='{location}')\")\n",
        "    return weather_data\n",
        "\n",
        "# Define function declarations for the model\n",
        "weather_function = {\n",
        "    \"name\": \"get_weather\",\n",
        "    \"description\": \"Gets current weather for a location\",\n",
        "    \"parameters\": {\n",
        "        \"type\": \"object\",\n",
        "        \"properties\": {\n",
        "            \"location\": {\n",
        "                \"type\": \"string\",\n",
        "                \"description\": \"The city name\"\n",
        "            }\n",
        "        },\n",
        "        \"required\": [\"location\"]\n",
        "    }\n",
        "}\n",
        "tools = [types.Tool(function_declarations=[weather_function])]\n",
        "\n",
        "# Define user prompt\n",
        "contents = [\n",
        "    types.Content(\n",
        "        role=\"user\", parts=[types.Part(text=\"Whats the weather in Tokyo?\")]\n",
        "    )\n",
        "]\n",
        "\n",
        "\n",
        "# Send request with function declarations\n",
        "response = client.models.generate_content(\n",
        "    model=MODEL_ID,\n",
        "    contents=contents,\n",
        "    config=types.GenerateContentConfig(tools=tools)\n",
        ")\n",
        "\n",
        "# Check for function calls\n",
        "function_call = response.candidates[0].content.parts[0].function_call\n",
        "print(f\"Model wants to call: {function_call.name}\")\n",
        "print(f\"With arguments: {dict(function_call.args)}\")"
      ]
    },
    {
      "cell_type": "code",
      "execution_count": null,
      "id": "cd345daf",
      "metadata": {
        "id": "cd345daf"
      },
      "outputs": [],
      "source": [
        "# Execute the function\n",
        "if function_call.name == \"get_weather\":\n",
        "    result = get_weather(**function_call.args)\n",
        "else:\n",
        "    result = {\"error\": \"Unknown function\"}\n",
        "\n",
        "print(f\"Function result: {result}\")\n",
        "\n",
        "# Send function result back to model\n",
        "function_response_part = types.Part.from_function_response(\n",
        "    name=function_call.name,\n",
        "    response={\"result\": result}\n",
        ")\n",
        "# Append function call and result of the function execution to contents\n",
        "contents.append(types.Content(role=\"model\", parts=[types.Part(function_call=function_call)])) # Append the model's function call message\n",
        "contents.append(types.Content(role=\"user\", parts=[function_response_part])) # Append the function response\n",
        "\n",
        "# Get final response\n",
        "final_response = client.models.generate_content(\n",
        "    model=MODEL_ID,\n",
        "    contents=contents,\n",
        "    config=types.GenerateContentConfig(tools=tools)\n",
        ")\n",
        "\n",
        "print(f\"\\nFinal response: {final_response.text}\")"
      ]
    },
    {
      "cell_type": "markdown",
      "id": "353e5fb9",
      "metadata": {
        "id": "353e5fb9"
      },
      "source": [
        "### Automatic Function Calling (Python Only)\n",
        "\n",
        "The Python SDK can automatically handle function execution for you:"
      ]
    },
    {
      "cell_type": "code",
      "execution_count": null,
      "id": "a9d211ce",
      "metadata": {
        "id": "a9d211ce"
      },
      "outputs": [],
      "source": [
        "def calculate_area(length: float, width: float) -> dict:\n",
        "    \"\"\"Calculate the area of a rectangle.\n",
        "\n",
        "    Args:\n",
        "        length: Length of the rectangle\n",
        "        width: Width of the rectangle\n",
        "\n",
        "    Returns:\n",
        "        Price calculations\n",
        "    \"\"\"\n",
        "    area = length * width\n",
        "    print(f\"CALC: {length} × {width} = {area}\")\n",
        "    return {\"operation\": \"area\", \"result\": area}\n",
        "\n",
        "# Using automatic function calling - much simpler!\n",
        "config = types.GenerateContentConfig(\n",
        "    tools=[get_weather, calculate_area]  # Pass functions directly\n",
        ")\n",
        "\n",
        "response = client.models.generate_content(\n",
        "    model=MODEL_ID,\n",
        "    contents=\"What's the weather in Tokyo and what's the area of a 5x3 meter room?\",\n",
        "    config=config\n",
        ")\n",
        "\n",
        "print(response.text)  # SDK handles function calls automatically"
      ]
    },
    {
      "cell_type": "markdown",
      "id": "43b058db",
      "metadata": {
        "id": "43b058db"
      },
      "source": [
        "## !! Exercise: Calculator Agent !!\n",
        "\n",
        "Create a set of calculator functions (add, subtract, multiply, divide) and use Gemini's function calling capability to perform calculations based on natural language prompts.\n",
        "\n",
        "Tasks:\n",
        "- Define Python functions for `add(a: float, b: float)`, `subtract(a: float, b: float)`, `multiply(a: float, b: float)`, and `divide(a: float, b: float)`.\n",
        "- Create a list of these functions (`calculator_tools`).\n",
        "- Test single operations with `client.models.generate_content()`:\n",
        "- Test complex expressions with a prompt for a multi-step calculation (e.g., \"Calculate (25 + 15) * 3 - 10. Do this step by step.\")."
      ]
    },
    {
      "cell_type": "code",
      "execution_count": null,
      "id": "befb76f0",
      "metadata": {
        "id": "befb76f0"
      },
      "outputs": [],
      "source": [
        "# TODO:"
      ]
    },
    {
      "cell_type": "markdown",
      "id": "656731a4",
      "metadata": {
        "id": "656731a4"
      },
      "source": [
        "## 3. Native Tools\n",
        "\n",
        "Gemini provides native tools for enhanced capabilities like searching the web and analyzing URL content.\n",
        "\n",
        "### Google Search Integration\n",
        "\n",
        "**Use cases:**\n",
        "- Current events and news\n",
        "- Real-time data lookup\n",
        "- Fact verification\n",
        "- Research assistance"
      ]
    },
    {
      "cell_type": "code",
      "execution_count": 3,
      "id": "98d8213e",
      "metadata": {
        "id": "98d8213e",
        "outputId": "e0cbbd49-6185-4821-c92e-ce4a9da7d590",
        "colab": {
          "base_uri": "https://localhost:8080/"
        }
      },
      "outputs": [
        {
          "output_type": "stream",
          "name": "stdout",
          "text": [
            "🔍 Current Renewable Energy News:\n",
            "In 2025, the renewable energy sector is seeing significant advancements across various technologies, driven by a global push towards sustainability and increased investment. Renewable electricity is projected to surpass coal as the world's leading energy source this year, marking a crucial turning point in addressing climate change.\n",
            "\n",
            "Key developments and trends in renewable energy technology in 2025 include:\n",
            "\n",
            "*   **Perovskite Solar Cells** These cells are revolutionizing solar power with notable efficiency gains and increasing affordability. They have advanced from 3% efficiency in 2009 to over 25% today, competing with traditional silicon panels. Tandem solar cells, which combine perovskite and silicon layers, further boost efficiency to over 30%. While stability remains a challenge due to exposure to moisture, oxygen, or heat, solutions like protective encapsulation layers and improved materials are under development, with a focus on scalable production.\n",
            "*   **Green Hydrogen** Green hydrogen, produced using renewable energy sources like solar or wind power, is emerging as a clean fuel for heavy industry and transport sectors, including shipping, steel, and aviation. A significant breakthrough in February 2025 saw University of Wollongong scientists develop an electrolyzer with 95% efficiency, far exceeding typical models that waste about 25% of input energy, potentially revolutionizing hydrogen production. Experts project a 30-40% decrease in green hydrogen production costs by 2025.\n",
            "*   **Advanced Energy Storage Solutions** Energy storage is crucial for the reliability of renewable energy. Lithium Iron Phosphate (LFP) cells are becoming a preferred choice for grid storage and electric vehicles due to their thermal stability and long lifespans. Newer options like sodium-ion and zinc-based batteries are also emerging as cheaper and safer alternatives to lithium, addressing supply issues. The global Battery Energy Storage Systems (BESS) market is experiencing rapid expansion, with an expected compound annual growth rate of 26.8% through 2025. Grid-scale energy storage is predicted to grow eightfold to reach 80 gigawatts by 2025. Innovations like sand batteries, which use fluidized beds of silica sand for storage, were revealed in October 2024. Additionally, long-duration energy storage (LDES) technologies, including green hydrogen production for 16 hours of solar power storage and iron-air batteries for up to 100 hours of offshore wind power storage, are receiving federal funding.\n",
            "*   **Wind Turbine Innovations** Advancements in wind turbines are increasing energy output through new designs and materials. Floating turbines enable offshore wind farms in deeper waters, while larger blades capture more energy even at low wind speeds. Vertical Axis Wind Turbines (VAWTs) are improving for urban environments or variable wind patterns. Wooden turbine towers are also being developed to reduce production costs and emissions. Residential wind turbines are also noted as a significant innovation.\n",
            "*   **AI and Digital Twin Technology** Artificial intelligence (AI) and digital twin technology are playing an increasingly critical role in energy systems. AI-powered smart grids are fundamentally changing energy management by creating intelligent networks that adapt to changes in energy supply and demand in real-time. AI algorithms analyze sensor data to create predictive models for equipment wear and tear, leading to reported maintenance cost reductions of 43-56% and a 60-66% decrease in unnecessary crew visits. AI is also accelerating the development of new circuit technologies for high-voltage direct current converters to integrate remote renewable generation more efficiently. The rapid expansion of AI and its energy demand from data centers are prompting a race to secure abundant, clean, and reliable energy supplies.\n",
            "*   **Advances in Solar Panel Technology** Beyond perovskites, bifacial solar panels are seeing advancements, and floating solar farms are gaining traction. Covering just 10% of the world's reservoirs with floating solar panels could produce 20 TW of electricity, significantly boosting global solar capacity. Solar canopies, which are awnings with embedded solar panels providing clean electricity for electric vehicles, are also expanding.\n",
            "*   **Other Emerging Technologies and Trends**\n",
            "    *   **Enhanced Geothermal Systems (EGS)** show promise, with a target of 90 gigawatts of installed capacity by 2050.\n",
            "    *   **Carbon Capture and Storage (CCS)** facilities have grown, with 130 large-scale operations now in place.\n",
            "    *   **Smart Inverters** are improving grid management by reacting to and following grid patterns to manage load more successfully and prevent blackouts, making panels more responsive.\n",
            "    *   **Electric Vehicles as Storage** is an emerging concept where EVs can act as energy storage units.\n",
            "    *   **Renewable Natural Gas** and **Food Waste-Powered Panels** are also listed among innovations for sustainable construction.\n",
            "    *   **Industrial Policy** is taking center stage, with governments increasingly intertwining energy, trade, and manufacturing policies to bolster clean technology manufacturing.\n",
            "    *   **Continued R&D and Innovation** are intensifying, aiming to enhance efficiencies, reduce costs, and mature emerging technologies across the board.\n",
            "\n",
            "Overall, 2025 is characterized by a dynamic and rapidly evolving renewable energy landscape, marked by technological breakthroughs, increased investment, and strong policy backing, pushing renewables to the forefront of global energy supply.\n"
          ]
        }
      ],
      "source": [
        "# Define Google Search tool\n",
        "google_search_tool = types.Tool(google_search=types.GoogleSearch())\n",
        "\n",
        "# Current events query\n",
        "response = client.models.generate_content(\n",
        "    model=MODEL_ID,\n",
        "    contents=\"What are the latest developments in renewable energy technology in 2025?\",\n",
        "    config=types.GenerateContentConfig(\n",
        "        tools=[google_search_tool],\n",
        "    )\n",
        ")\n",
        "\n",
        "print(\"🔍 Current Renewable Energy News:\")\n",
        "print(response)"
      ]
    },
    {
      "cell_type": "code",
      "source": [
        "print(response)"
      ],
      "metadata": {
        "id": "ROKOkhErm8I1",
        "outputId": "e6d9784f-a3ca-41bf-d4bd-66960c50b03d",
        "colab": {
          "base_uri": "https://localhost:8080/"
        }
      },
      "id": "ROKOkhErm8I1",
      "execution_count": 4,
      "outputs": [
        {
          "output_type": "stream",
          "name": "stdout",
          "text": [
            "candidates=[Candidate(content=Content(parts=[Part(video_metadata=None, thought=None, inline_data=None, file_data=None, code_execution_result=None, executable_code=None, function_call=None, function_response=None, text=\"In 2025, the renewable energy sector is seeing significant advancements across various technologies, driven by a global push towards sustainability and increased investment. Renewable electricity is projected to surpass coal as the world's leading energy source this year, marking a crucial turning point in addressing climate change.\\n\\nKey developments and trends in renewable energy technology in 2025 include:\\n\\n*   **Perovskite Solar Cells** These cells are revolutionizing solar power with notable efficiency gains and increasing affordability. They have advanced from 3% efficiency in 2009 to over 25% today, competing with traditional silicon panels. Tandem solar cells, which combine perovskite and silicon layers, further boost efficiency to over 30%. While stability remains a challenge due to exposure to moisture, oxygen, or heat, solutions like protective encapsulation layers and improved materials are under development, with a focus on scalable production.\\n*   **Green Hydrogen** Green hydrogen, produced using renewable energy sources like solar or wind power, is emerging as a clean fuel for heavy industry and transport sectors, including shipping, steel, and aviation. A significant breakthrough in February 2025 saw University of Wollongong scientists develop an electrolyzer with 95% efficiency, far exceeding typical models that waste about 25% of input energy, potentially revolutionizing hydrogen production. Experts project a 30-40% decrease in green hydrogen production costs by 2025.\\n*   **Advanced Energy Storage Solutions** Energy storage is crucial for the reliability of renewable energy. Lithium Iron Phosphate (LFP) cells are becoming a preferred choice for grid storage and electric vehicles due to their thermal stability and long lifespans. Newer options like sodium-ion and zinc-based batteries are also emerging as cheaper and safer alternatives to lithium, addressing supply issues. The global Battery Energy Storage Systems (BESS) market is experiencing rapid expansion, with an expected compound annual growth rate of 26.8% through 2025. Grid-scale energy storage is predicted to grow eightfold to reach 80 gigawatts by 2025. Innovations like sand batteries, which use fluidized beds of silica sand for storage, were revealed in October 2024. Additionally, long-duration energy storage (LDES) technologies, including green hydrogen production for 16 hours of solar power storage and iron-air batteries for up to 100 hours of offshore wind power storage, are receiving federal funding.\\n*   **Wind Turbine Innovations** Advancements in wind turbines are increasing energy output through new designs and materials. Floating turbines enable offshore wind farms in deeper waters, while larger blades capture more energy even at low wind speeds. Vertical Axis Wind Turbines (VAWTs) are improving for urban environments or variable wind patterns. Wooden turbine towers are also being developed to reduce production costs and emissions. Residential wind turbines are also noted as a significant innovation.\\n*   **AI and Digital Twin Technology** Artificial intelligence (AI) and digital twin technology are playing an increasingly critical role in energy systems. AI-powered smart grids are fundamentally changing energy management by creating intelligent networks that adapt to changes in energy supply and demand in real-time. AI algorithms analyze sensor data to create predictive models for equipment wear and tear, leading to reported maintenance cost reductions of 43-56% and a 60-66% decrease in unnecessary crew visits. AI is also accelerating the development of new circuit technologies for high-voltage direct current converters to integrate remote renewable generation more efficiently. The rapid expansion of AI and its energy demand from data centers are prompting a race to secure abundant, clean, and reliable energy supplies.\\n*   **Advances in Solar Panel Technology** Beyond perovskites, bifacial solar panels are seeing advancements, and floating solar farms are gaining traction. Covering just 10% of the world's reservoirs with floating solar panels could produce 20 TW of electricity, significantly boosting global solar capacity. Solar canopies, which are awnings with embedded solar panels providing clean electricity for electric vehicles, are also expanding.\\n*   **Other Emerging Technologies and Trends**\\n    *   **Enhanced Geothermal Systems (EGS)** show promise, with a target of 90 gigawatts of installed capacity by 2050.\\n    *   **Carbon Capture and Storage (CCS)** facilities have grown, with 130 large-scale operations now in place.\\n    *   **Smart Inverters** are improving grid management by reacting to and following grid patterns to manage load more successfully and prevent blackouts, making panels more responsive.\\n    *   **Electric Vehicles as Storage** is an emerging concept where EVs can act as energy storage units.\\n    *   **Renewable Natural Gas** and **Food Waste-Powered Panels** are also listed among innovations for sustainable construction.\\n    *   **Industrial Policy** is taking center stage, with governments increasingly intertwining energy, trade, and manufacturing policies to bolster clean technology manufacturing.\\n    *   **Continued R&D and Innovation** are intensifying, aiming to enhance efficiencies, reduce costs, and mature emerging technologies across the board.\\n\\nOverall, 2025 is characterized by a dynamic and rapidly evolving renewable energy landscape, marked by technological breakthroughs, increased investment, and strong policy backing, pushing renewables to the forefront of global energy supply.\")], role='model'), citation_metadata=CitationMetadata(citations=None), finish_message=None, token_count=None, finish_reason=<FinishReason.STOP: 'STOP'>, url_context_metadata=None, avg_logprobs=None, grounding_metadata=GroundingMetadata(grounding_chunks=[GroundingChunk(retrieved_context=None, web=GroundingChunkWeb(domain=None, title='ratedpower.com', uri='https://vertexaisearch.cloud.google.com/grounding-api-redirect/AbF9wXFujf7NQsKzGpS2wM2tCXXoF8QtnigiDAce6cVU30QgS0Y6HrWly_xQ2T2GT9neIl8lXo4Cf0zjBZ1dNGCJLcDOS6-EC7_i0kRmT-Q3ZXNgPPCMhrMzN8mpGrDNuuF1ksP8jp04jqb8Ahc=')), GroundingChunk(retrieved_context=None, web=GroundingChunkWeb(domain=None, title='iea.org', uri='https://vertexaisearch.cloud.google.com/grounding-api-redirect/AbF9wXFNephqChHEjbgtRRTgB1qjdXqoCeBsGH-gRodPiulX8hb_sj__dxB_y_13sugHZtCYLMl_8yNSnkGyMJXthzuVAEMjK8VP1I3q08Ga3N768lt2kMNOC39S-d8m9LZCpd90WQ==')), GroundingChunk(retrieved_context=None, web=GroundingChunkWeb(domain=None, title='greenrecruitmentcompany.com', uri='https://vertexaisearch.cloud.google.com/grounding-api-redirect/AbF9wXEKeLEyg18ZqNgsVDNYzsisdLZSnyR5lUrN-T1Jd7pX1860sxEGtACKoI5xT_m5YRsUX3vXtrbmnwjgDnZSNSpHl-ZoXjssrc3-e6Q8yiHPOGDOAWJ2KX-4ZQij3xdcoy96Vw8qgxW3EKHS83QAm9iCvBnDCJtxIwabeI5-G02ajdKBtpEBA7X9JPvbrXLuZXR3CcF1JEm3XjDDl73l')), GroundingChunk(retrieved_context=None, web=GroundingChunkWeb(domain=None, title='khaitanbioenergy.com', uri='https://vertexaisearch.cloud.google.com/grounding-api-redirect/AbF9wXEcUo-J4_-NDgUVy_cYAEX90ptF52QG47c_L-ovoA5UWStfwyTrIl171_0rWnBs8mSilPTAWex5dTw217gWVnTxcpqogr_N6dohfRZMrPcLZLb2xWMIQrkmALPfyaTut4iwGPVncvbPqqepj0-GXb9o_Hcu5D14A0tUXjo2-Qy7ww7NXvxh5NAW8YI=')), GroundingChunk(retrieved_context=None, web=GroundingChunkWeb(domain=None, title='environmentenergyleader.com', uri='https://vertexaisearch.cloud.google.com/grounding-api-redirect/AbF9wXEuRzp9nDUNZXDivNxvtVdt82m7zeL-o-RY1GRfk96BoOIv_Qux8THyKAT7IG-boKKSJotfXpSfxy_GlHrvPnA0T5gOVpsNvrCvFDFov00NZG9ucJn3fodUQ_fjh2kPV8QmGs6F8V1Qt5dXdfbvsx01KsNeEvmaBVyF4e9EfrPXhNH-DARk8E9n5QSeITC6kWFBl5XdTgtuSyJtdLCmBRrUZxB5QMmc2qmw4Pu4MRlpdeKDtKJveG02Q1fPvvLxNA7s')), GroundingChunk(retrieved_context=None, web=GroundingChunkWeb(domain=None, title='renewableenergymagazine.com', uri='https://vertexaisearch.cloud.google.com/grounding-api-redirect/AbF9wXH0BtqO6vWcca9rg2zhay7yP18RusA8Oo1Ok6xRFL_8Eumgdfu2EQBOGJ0RAew1MmlTyNzbzeNPCCzU-VJCsCWXrdkP2upleb3Z7_n9UsssJo8TLcuxShIsmI31EvT46p1iVxQBveaYHG_w05uihdA0pWK2Cfo2ky-uN4lex6SF2BIOGZv7IrWo9-EYNSexysm-XEJsP0I8LH1fd3voC2Pw4lJfPVoCwgY=')), GroundingChunk(retrieved_context=None, web=GroundingChunkWeb(domain=None, title='deloitte.com', uri='https://vertexaisearch.cloud.google.com/grounding-api-redirect/AbF9wXE1lRzaMw-FXTLrcVEz6rMfyOj46ZIExgufO_ux6du4IrvkeNasE7vpCF4qj1eIwo9p5QTAylzeNeWXSmfE8xRX9VrPz1yVsdgutN9E82zPr4EgwdWHkGxZ4dXPAprS3hlOrDvmDQ_9zB0DebTDS-fPtfwKRkWU9ed28RnpnxZMO5wF-71bb9t6WJbjdZ-0ewSgF7uYGkzAaIXSUZMikjE=')), GroundingChunk(retrieved_context=None, web=GroundingChunkWeb(domain=None, title='marks-clerk.com', uri='https://vertexaisearch.cloud.google.com/grounding-api-redirect/AbF9wXH0f-UlfFghoc0NRJM5e6OQMF27jTD1IPg9zTKnoJbDvmt4AjTjvJy7Cadol-zYTw64s5JERpZPu46Svt2f11lkw-C12l6V5fvbwHSIuUshchCjNMccsFc3imiuF8WbQKaxppRYfC1UJOzkKPGHz4KXvF4aoNRKgYimFt7T0HRy7cpY0Ya8rUG9W3FarsKekg8fwVhm6ZvA_b61IGbXIGAo2yiBMOQjnu-x8OBxebkQ5jtufEe-'))], grounding_supports=[GroundingSupport(confidence_scores=[1.0, 1.0], grounding_chunk_indices=[0, 1], segment=Segment(end_index=333, part_index=None, start_index=174, text=\"Renewable electricity is projected to surpass coal as the world's leading energy source this year, marking a crucial turning point in addressing climate change\")), GroundingSupport(confidence_scores=[1.0, 1.0], grounding_chunk_indices=[0, 2], segment=Segment(end_index=969, part_index=None, start_index=759, text='While stability remains a challenge due to exposure to moisture, oxygen, or heat, solutions like protective encapsulation layers and improved materials are under development, with a focus on scalable production')), GroundingSupport(confidence_scores=[1.0, 1.0], grounding_chunk_indices=[0, 3], segment=Segment(end_index=1185, part_index=None, start_index=971, text='*   **Green Hydrogen** Green hydrogen, produced using renewable energy sources like solar or wind power, is emerging as a clean fuel for heavy industry and transport sectors, including shipping, steel, and aviation')), GroundingSupport(confidence_scores=[1.0], grounding_chunk_indices=[4], segment=Segment(end_index=1430, part_index=None, start_index=1187, text='A significant breakthrough in February 2025 saw University of Wollongong scientists develop an electrolyzer with 95% efficiency, far exceeding typical models that waste about 25% of input energy, potentially revolutionizing hydrogen production')), GroundingSupport(confidence_scores=[1.0], grounding_chunk_indices=[2], segment=Segment(end_index=1508, part_index=None, start_index=1432, text='Experts project a 30-40% decrease in green hydrogen production costs by 2025')), GroundingSupport(confidence_scores=[1.0], grounding_chunk_indices=[0], segment=Segment(end_index=2076, part_index=None, start_index=1921, text='The global Battery Energy Storage Systems (BESS) market is experiencing rapid expansion, with an expected compound annual growth rate of 26.8% through 2025')), GroundingSupport(confidence_scores=[1.0], grounding_chunk_indices=[2], segment=Segment(end_index=2164, part_index=None, start_index=2078, text='Grid-scale energy storage is predicted to grow eightfold to reach 80 gigawatts by 2025')), GroundingSupport(confidence_scores=[1.0], grounding_chunk_indices=[5], segment=Segment(end_index=2281, part_index=None, start_index=2166, text='Innovations like sand batteries, which use fluidized beds of silica sand for storage, were revealed in October 2024')), GroundingSupport(confidence_scores=[1.0], grounding_chunk_indices=[6], segment=Segment(end_index=2523, part_index=None, start_index=2283, text='Additionally, long-duration energy storage (LDES) technologies, including green hydrogen production for 16 hours of solar power storage and iron-air batteries for up to 100 hours of offshore wind power storage, are receiving federal funding')), GroundingSupport(confidence_scores=[1.0], grounding_chunk_indices=[0], segment=Segment(end_index=2967, part_index=None, start_index=2880, text='Wooden turbine towers are also being developed to reduce production costs and emissions')), GroundingSupport(confidence_scores=[1.0], grounding_chunk_indices=[5], segment=Segment(end_index=3037, part_index=None, start_index=2969, text='Residential wind turbines are also noted as a significant innovation')), GroundingSupport(confidence_scores=[1.0, 1.0, 1.0], grounding_chunk_indices=[0, 2, 3], segment=Segment(end_index=3359, part_index=None, start_index=3196, text='AI-powered smart grids are fundamentally changing energy management by creating intelligent networks that adapt to changes in energy supply and demand in real-time')), GroundingSupport(confidence_scores=[1.0], grounding_chunk_indices=[2], segment=Segment(end_index=3558, part_index=None, start_index=3361, text='AI algorithms analyze sensor data to create predictive models for equipment wear and tear, leading to reported maintenance cost reductions of 43-56% and a 60-66% decrease in unnecessary crew visits')), GroundingSupport(confidence_scores=[1.0], grounding_chunk_indices=[6], segment=Segment(end_index=3728, part_index=None, start_index=3560, text='AI is also accelerating the development of new circuit technologies for high-voltage direct current converters to integrate remote renewable generation more efficiently')), GroundingSupport(confidence_scores=[1.0], grounding_chunk_indices=[7], segment=Segment(end_index=3872, part_index=None, start_index=3730, text='The rapid expansion of AI and its energy demand from data centers are prompting a race to secure abundant, clean, and reliable energy supplies')), GroundingSupport(confidence_scores=[1.0], grounding_chunk_indices=[0], segment=Segment(end_index=4029, part_index=None, start_index=3874, text='*   **Advances in Solar Panel Technology** Beyond perovskites, bifacial solar panels are seeing advancements, and floating solar farms are gaining traction')), GroundingSupport(confidence_scores=[1.0], grounding_chunk_indices=[0], segment=Segment(end_index=4182, part_index=None, start_index=4031, text=\"Covering just 10% of the world's reservoirs with floating solar panels could produce 20 TW of electricity, significantly boosting global solar capacity\")), GroundingSupport(confidence_scores=[1.0], grounding_chunk_indices=[5], segment=Segment(end_index=4314, part_index=None, start_index=4184, text='Solar canopies, which are awnings with embedded solar panels providing clean electricity for electric vehicles, are also expanding')), GroundingSupport(confidence_scores=[1.0], grounding_chunk_indices=[2], segment=Segment(end_index=4482, part_index=None, start_index=4316, text='*   **Other Emerging Technologies and Trends**\\n    *   **Enhanced Geothermal Systems (EGS)** show promise, with a target of 90 gigawatts of installed capacity by 2050')), GroundingSupport(confidence_scores=[1.0], grounding_chunk_indices=[2], segment=Segment(end_index=4596, part_index=None, start_index=4488, text='*   **Carbon Capture and Storage (CCS)** facilities have grown, with 130 large-scale operations now in place')), GroundingSupport(confidence_scores=[1.0], grounding_chunk_indices=[5], segment=Segment(end_index=4784, part_index=None, start_index=4602, text='*   **Smart Inverters** are improving grid management by reacting to and following grid patterns to manage load more successfully and prevent blackouts, making panels more responsive')), GroundingSupport(confidence_scores=[1.0], grounding_chunk_indices=[5], segment=Segment(end_index=4891, part_index=None, start_index=4790, text='*   **Electric Vehicles as Storage** is an emerging concept where EVs can act as energy storage units')), GroundingSupport(confidence_scores=[1.0], grounding_chunk_indices=[5], segment=Segment(end_index=5023, part_index=None, start_index=4897, text='*   **Renewable Natural Gas** and **Food Waste-Powered Panels** are also listed among innovations for sustainable construction')), GroundingSupport(confidence_scores=[1.0], grounding_chunk_indices=[7], segment=Segment(end_index=5205, part_index=None, start_index=5029, text='*   **Industrial Policy** is taking center stage, with governments increasingly intertwining energy, trade, and manufacturing policies to bolster clean technology manufacturing')), GroundingSupport(confidence_scores=[1.0], grounding_chunk_indices=[7], segment=Segment(end_index=5361, part_index=None, start_index=5211, text='*   **Continued R&D and Innovation** are intensifying, aiming to enhance efficiencies, reduce costs, and mature emerging technologies across the board')), GroundingSupport(confidence_scores=[1.0, 1.0], grounding_chunk_indices=[0, 3], segment=Segment(end_index=5604, part_index=None, start_index=5364, text='Overall, 2025 is characterized by a dynamic and rapidly evolving renewable energy landscape, marked by technological breakthroughs, increased investment, and strong policy backing, pushing renewables to the forefront of global energy supply'))], retrieval_metadata=None, retrieval_queries=None, search_entry_point=SearchEntryPoint(rendered_content='<style>\\n.container {\\n  align-items: center;\\n  border-radius: 8px;\\n  display: flex;\\n  font-family: Google Sans, Roboto, sans-serif;\\n  font-size: 14px;\\n  line-height: 20px;\\n  padding: 8px 12px;\\n}\\n.chip {\\n  display: inline-block;\\n  border: solid 1px;\\n  border-radius: 16px;\\n  min-width: 14px;\\n  padding: 5px 16px;\\n  text-align: center;\\n  user-select: none;\\n  margin: 0 8px;\\n  -webkit-tap-highlight-color: transparent;\\n}\\n.carousel {\\n  overflow: auto;\\n  scrollbar-width: none;\\n  white-space: nowrap;\\n  margin-right: -12px;\\n}\\n.headline {\\n  display: flex;\\n  margin-right: 4px;\\n}\\n.gradient-container {\\n  position: relative;\\n}\\n.gradient {\\n  position: absolute;\\n  transform: translate(3px, -9px);\\n  height: 36px;\\n  width: 9px;\\n}\\n@media (prefers-color-scheme: light) {\\n  .container {\\n    background-color: #fafafa;\\n    box-shadow: 0 0 0 1px #0000000f;\\n  }\\n  .headline-label {\\n    color: #1f1f1f;\\n  }\\n  .chip {\\n    background-color: #ffffff;\\n    border-color: #d2d2d2;\\n    color: #5e5e5e;\\n    text-decoration: none;\\n  }\\n  .chip:hover {\\n    background-color: #f2f2f2;\\n  }\\n  .chip:focus {\\n    background-color: #f2f2f2;\\n  }\\n  .chip:active {\\n    background-color: #d8d8d8;\\n    border-color: #b6b6b6;\\n  }\\n  .logo-dark {\\n    display: none;\\n  }\\n  .gradient {\\n    background: linear-gradient(90deg, #fafafa 15%, #fafafa00 100%);\\n  }\\n}\\n@media (prefers-color-scheme: dark) {\\n  .container {\\n    background-color: #1f1f1f;\\n    box-shadow: 0 0 0 1px #ffffff26;\\n  }\\n  .headline-label {\\n    color: #fff;\\n  }\\n  .chip {\\n    background-color: #2c2c2c;\\n    border-color: #3c4043;\\n    color: #fff;\\n    text-decoration: none;\\n  }\\n  .chip:hover {\\n    background-color: #353536;\\n  }\\n  .chip:focus {\\n    background-color: #353536;\\n  }\\n  .chip:active {\\n    background-color: #464849;\\n    border-color: #53575b;\\n  }\\n  .logo-light {\\n    display: none;\\n  }\\n  .gradient {\\n    background: linear-gradient(90deg, #1f1f1f 15%, #1f1f1f00 100%);\\n  }\\n}\\n</style>\\n<div class=\"container\">\\n  <div class=\"headline\">\\n    <svg class=\"logo-light\" width=\"18\" height=\"18\" viewBox=\"9 9 35 35\" fill=\"none\" xmlns=\"http://www.w3.org/2000/svg\">\\n      <path fill-rule=\"evenodd\" clip-rule=\"evenodd\" d=\"M42.8622 27.0064C42.8622 25.7839 42.7525 24.6084 42.5487 23.4799H26.3109V30.1568H35.5897C35.1821 32.3041 33.9596 34.1222 32.1258 35.3448V39.6864H37.7213C40.9814 36.677 42.8622 32.2571 42.8622 27.0064V27.0064Z\" fill=\"#4285F4\"/>\\n      <path fill-rule=\"evenodd\" clip-rule=\"evenodd\" d=\"M26.3109 43.8555C30.9659 43.8555 34.8687 42.3195 37.7213 39.6863L32.1258 35.3447C30.5898 36.3792 28.6306 37.0061 26.3109 37.0061C21.8282 37.0061 18.0195 33.9811 16.6559 29.906H10.9194V34.3573C13.7563 39.9841 19.5712 43.8555 26.3109 43.8555V43.8555Z\" fill=\"#34A853\"/>\\n      <path fill-rule=\"evenodd\" clip-rule=\"evenodd\" d=\"M16.6559 29.8904C16.3111 28.8559 16.1074 27.7588 16.1074 26.6146C16.1074 25.4704 16.3111 24.3733 16.6559 23.3388V18.8875H10.9194C9.74388 21.2072 9.06992 23.8247 9.06992 26.6146C9.06992 29.4045 9.74388 32.022 10.9194 34.3417L15.3864 30.8621L16.6559 29.8904V29.8904Z\" fill=\"#FBBC05\"/>\\n      <path fill-rule=\"evenodd\" clip-rule=\"evenodd\" d=\"M26.3109 16.2386C28.85 16.2386 31.107 17.1164 32.9095 18.8091L37.8466 13.8719C34.853 11.082 30.9659 9.3736 26.3109 9.3736C19.5712 9.3736 13.7563 13.245 10.9194 18.8875L16.6559 23.3388C18.0195 19.2636 21.8282 16.2386 26.3109 16.2386V16.2386Z\" fill=\"#EA4335\"/>\\n    </svg>\\n    <svg class=\"logo-dark\" width=\"18\" height=\"18\" viewBox=\"0 0 48 48\" xmlns=\"http://www.w3.org/2000/svg\">\\n      <circle cx=\"24\" cy=\"23\" fill=\"#FFF\" r=\"22\"/>\\n      <path d=\"M33.76 34.26c2.75-2.56 4.49-6.37 4.49-11.26 0-.89-.08-1.84-.29-3H24.01v5.99h8.03c-.4 2.02-1.5 3.56-3.07 4.56v.75l3.91 2.97h.88z\" fill=\"#4285F4\"/>\\n      <path d=\"M15.58 25.77A8.845 8.845 0 0 0 24 31.86c1.92 0 3.62-.46 4.97-1.31l4.79 3.71C31.14 36.7 27.65 38 24 38c-5.93 0-11.01-3.4-13.45-8.36l.17-1.01 4.06-2.85h.8z\" fill=\"#34A853\"/>\\n      <path d=\"M15.59 20.21a8.864 8.864 0 0 0 0 5.58l-5.03 3.86c-.98-2-1.53-4.25-1.53-6.64 0-2.39.55-4.64 1.53-6.64l1-.22 3.81 2.98.22 1.08z\" fill=\"#FBBC05\"/>\\n      <path d=\"M24 14.14c2.11 0 4.02.75 5.52 1.98l4.36-4.36C31.22 9.43 27.81 8 24 8c-5.93 0-11.01 3.4-13.45 8.36l5.03 3.85A8.86 8.86 0 0 1 24 14.14z\" fill=\"#EA4335\"/>\\n    </svg>\\n    <div class=\"gradient-container\"><div class=\"gradient\"></div></div>\\n  </div>\\n  <div class=\"carousel\">\\n    <a class=\"chip\" href=\"https://vertexaisearch.cloud.google.com/grounding-api-redirect/AbF9wXEh4n6eI7CIEIyXbYSFaYV9rGvjVeE6vi8YusBP-wRc1wUOSv2MxRvALYj4odxo6dunovrEt6TANARJ6FeVGVhsfL-JJavntUN2Xkwbe7do-mv7BQHHvpvTTJhZ-DK9PEIDX06EvLiUaKLhfXB3ah14jlrbd8c9cgX38SWu0XwDZrc85Ca19PQf4_ogpj51g-rnxw0oVMaOeSgRkU-XiQecH8US_5zhPLbX9c--SutBOOEWOw==\">latest renewable energy technology developments 2025</a>\\n    <a class=\"chip\" href=\"https://vertexaisearch.cloud.google.com/grounding-api-redirect/AbF9wXE1NpqP611RxSeVmdNa_lcDXq7zYf37_IW17uL-byaBP3Vas-QV6nzpIGQn5_91IqmC0sIiDbVgVN9b520h-HR7W_Xf8UBkcgml9v_CIStwlmKOWOfdVKft67Xdp9iMIAzaIt6Ce2qUCc6PdXKxCv3-N2XH3DhMwZajXUpREoSHHklOO9fn2TXyuqVBJ8VH5gOdVI10fpP-3oOL8nPXLjCB1kO0zA==\">breakthroughs in renewable energy 2025</a>\\n  </div>\\n</div>\\n', sdk_blob=None), web_search_queries=['latest renewable energy technology developments 2025', 'breakthroughs in renewable energy 2025']), index=0, logprobs_result=None, safety_ratings=None)] create_time=None response_id=None model_version='models/gemini-2.5-flash-preview-05-20' prompt_feedback=None usage_metadata=GenerateContentResponseUsageMetadata(cache_tokens_details=None, cached_content_token_count=None, candidates_token_count=1137, candidates_tokens_details=None, prompt_token_count=17, prompt_tokens_details=[ModalityTokenCount(modality=<MediaModality.TEXT: 'TEXT'>, token_count=17)], thoughts_token_count=318, tool_use_prompt_token_count=None, tool_use_prompt_tokens_details=None, total_token_count=1472, traffic_type=None) automatic_function_calling_history=[] parsed=None\n"
          ]
        }
      ]
    },
    {
      "cell_type": "markdown",
      "id": "d7fb0b0a",
      "metadata": {
        "id": "d7fb0b0a"
      },
      "source": [
        "### URL Context Tool\n",
        "\n",
        "**Use cases:**\n",
        "- Website content analysis\n",
        "- Documentation summarization\n",
        "- Competitive research\n",
        "- Content extraction"
      ]
    },
    {
      "cell_type": "code",
      "execution_count": 8,
      "id": "b290e5a8",
      "metadata": {
        "id": "b290e5a8",
        "outputId": "e2da3844-cc46-4571-9938-ae74159995e2",
        "colab": {
          "base_uri": "https://localhost:8080/"
        }
      },
      "outputs": [
        {
          "output_type": "stream",
          "name": "stdout",
          "text": [
            "TLDR:\n",
            "Here's a TLDR of Marginal Revolution:\n",
            "\n",
            "*   The blog covers a diverse range of topics, including economics, current events, law, and arts/travel.\n",
            "*   It frequently features \"assorted links\" posts, curating news and interesting articles from various sources.\n",
            "*   Authors Tyler Cowen and Alex Tabarrok provide analysis on economic issues, often discussing new academic research and its real-world implications.\n",
            "\n",
            "Marginal Revolution is an economics-focused blog run by Tyler Cowen and Alex Tabarrok, featuring daily posts that explore a wide array of subjects beyond economics, such as current affairs, law, and culture. The site frequently summarizes recent academic papers and provides commentary on global economic and political trends, often through curated links and detailed discussions.\n"
          ]
        }
      ],
      "source": [
        "# URL context for analyzing specific web pages\n",
        "url_context_tool = types.Tool(url_context=types.UrlContext())\n",
        "\n",
        "response = client.models.generate_content(\n",
        "    model=MODEL_ID,\n",
        "    contents=\"Give me a TLDR of what is on https://marginalrevolution.com in 3 bullet points and then a short paragraph.\",\n",
        "    config=types.GenerateContentConfig(\n",
        "        tools=[url_context_tool],\n",
        "    )\n",
        ")\n",
        "\n",
        "print(\"TLDR:\")\n",
        "print(response.text)"
      ]
    },
    {
      "cell_type": "code",
      "source": [
        "!pip install firecrawl-py -q"
      ],
      "metadata": {
        "id": "JveaxR1nqvP-",
        "outputId": "9709a92f-7035-4d65-bc8b-bc784fec9ac1",
        "colab": {
          "base_uri": "https://localhost:8080/"
        }
      },
      "id": "JveaxR1nqvP-",
      "execution_count": 10,
      "outputs": [
        {
          "output_type": "stream",
          "name": "stdout",
          "text": [
            "\u001b[?25l   \u001b[90m━━━━━━━━━━━━━━━━━━━━━━━━━━━━━━━━━━━━━━━━\u001b[0m \u001b[32m0.0/71.2 kB\u001b[0m \u001b[31m?\u001b[0m eta \u001b[36m-:--:--\u001b[0m\r\u001b[2K   \u001b[90m━━━━━━━━━━━━━━━━━━━━━━━━━━━━━━━━━━━━━━━━\u001b[0m \u001b[32m71.2/71.2 kB\u001b[0m \u001b[31m3.5 MB/s\u001b[0m eta \u001b[36m0:00:00\u001b[0m\n",
            "\u001b[?25h"
          ]
        }
      ]
    },
    {
      "cell_type": "code",
      "source": [
        "import nest_asyncio\n",
        "nest_asyncio.apply()\n",
        "\n",
        "import asyncio\n",
        "import time\n",
        "from firecrawl import AsyncFirecrawlApp\n",
        "from google import genai\n",
        "from google.genai import types\n",
        "import sys\n",
        "import os\n",
        "\n",
        "IN_COLAB = 'google.colab' in sys.modules\n",
        "\n",
        "if IN_COLAB:\n",
        "    from google.colab import userdata\n",
        "    GEMINI_API_KEY = userdata.get('GEMINI_API_KEY')\n",
        "    FIRECRAWL_API_KEY = userdata.get('FIRECRAWL_API_KEY') # Make sure you add FIRECRAWL_API_KEY to Colab secrets\n",
        "else:\n",
        "    GEMINI_API_KEY = os.environ.get('GEMINI_API_KEY', None)\n",
        "    FIRECRAWL_API_KEY = os.environ.get('FIRECRAWL_API_KEY', None)\n",
        "\n",
        "# Create client with api key\n",
        "MODEL_ID = \"gemini-2.5-flash-preview-05-20\"\n",
        "client = genai.Client(api_key=GEMINI_API_KEY)\n",
        "\n",
        "url_to_summarize = 'https://marginalrevolution.com'\n",
        "\n",
        "# Method 1: Firecrawl + Gemini\n",
        "print(\"--- Method 1: Firecrawl + Gemini ---\")\n",
        "\n",
        "async def firecrawl_and_gemini_tldr(url: str, gemini_client):\n",
        "    app = AsyncFirecrawlApp(api_key=FIRECRAWL_API_KEY)\n",
        "    start_time = time.time()\n",
        "\n",
        "    # Step 1: Scrape with Firecrawl\n",
        "    print(f\"Scraping {url} with Firecrawl...\")\n",
        "    try:\n",
        "        firecrawl_response = await app.scrape_url(\n",
        "            url=url,\n",
        "            formats=['markdown'],\n",
        "            only_main_content=True\n",
        "        )\n",
        "    except Exception as e:\n",
        "        print(f\"Firecrawl scraping failed: {e}\")\n",
        "        return None, None, None, None\n",
        "\n",
        "\n",
        "    # Access the markdown content directly from the response object's markdown attribute\n",
        "    firecrawl_content = getattr(firecrawl_response, 'markdown', '')\n",
        "\n",
        "    print(f\"Length of firecrawl content: {len(firecrawl_content)}\") # Print content length for context\n",
        "\n",
        "    if not firecrawl_content:\n",
        "        print(\"Firecrawl failed to get content.\")\n",
        "        print(\"Firecrawl Response Object:\")\n",
        "        print(firecrawl_response)\n",
        "        return None, None, None, None\n",
        "\n",
        "    # Step 2: Summarize with Gemini\n",
        "    print(\"Summarizing content with Gemini...\")\n",
        "    try:\n",
        "        gemini_response = gemini_client.models.generate_content(\n",
        "            model=MODEL_ID,\n",
        "            contents=f\"Give me a TLDR of the following markdown content in 3 bullet points and then a short paragraph:\\n\\n{firecrawl_content}\",\n",
        "        )\n",
        "        tldr_text = gemini_response.text\n",
        "\n",
        "        # Extract token usage\n",
        "        input_tokens = getattr(gemini_response.usage_metadata, 'prompt_token_count', 'N/A')\n",
        "        output_tokens = getattr(gemini_response.usage_metadata, 'candidates_token_count', 'N/A')\n",
        "\n",
        "    except Exception as e:\n",
        "        print(f\"Gemini summarization failed: {e}\")\n",
        "        tldr_text = \"Summarization failed.\"\n",
        "        input_tokens = 'Error'\n",
        "        output_tokens = 'Error'\n",
        "\n",
        "\n",
        "    end_time = time.time()\n",
        "    response_time = end_time - start_time\n",
        "\n",
        "    return tldr_text, response_time, input_tokens, output_tokens\n",
        "\n",
        "# Use the existing event loop in the notebook environment with nest_asyncio\n",
        "loop = asyncio.get_event_loop()\n",
        "tldr_firecrawl_gemini, time_firecrawl_gemini, input_tokens_fc_gemini, output_tokens_fc_gemini = loop.run_until_complete(firecrawl_and_gemini_tldr(url_to_summarize, client))\n",
        "\n",
        "if tldr_firecrawl_gemini is not None:\n",
        "    print(\"\\nTLDR (Firecrawl + Gemini):\")\n",
        "    print(tldr_firecrawl_gemini)\n",
        "    print(f\"Response time: {time_firecrawl_gemini:.2f} seconds\")\n",
        "    print(f\"Gemini Token Usage (Firecrawl + Gemini):\")\n",
        "    print(f\"  Input Tokens: {input_tokens_fc_gemini}\")\n",
        "    print(f\"  Output Tokens: {output_tokens_fc_gemini}\")\n",
        "\n",
        "\n",
        "print(\"\\n\" + \"=\"*50 + \"\\n\")\n",
        "\n",
        "# Method 2: Gemini URL Context Tool\n",
        "print(\"--- Method 2: Gemini URL Context ---\")\n",
        "\n",
        "url_context_tool = types.Tool(url_context=types.UrlContext())\n",
        "\n",
        "start_time = time.time()\n",
        "\n",
        "try:\n",
        "    response_gemini_url = client.models.generate_content(\n",
        "        model=MODEL_ID,\n",
        "        contents=f\"Give me a TLDR of what is on {url_to_summarize} in 3 bullet points and then a short paragraph.\",\n",
        "        config=types.GenerateContentConfig(\n",
        "            tools=[url_context_tool],\n",
        "        )\n",
        "    )\n",
        "    tldr_gemini_url = response_gemini_url.text\n",
        "\n",
        "    # Extract token usage\n",
        "    input_tokens_url_gemini = getattr(response_gemini_url.usage_metadata, 'prompt_token_count', 'N/A')\n",
        "    output_tokens_url_gemini = getattr(response_gemini_url.usage_metadata, 'candidates_token_count', 'N/A')\n",
        "\n",
        "except Exception as e:\n",
        "    print(f\"Gemini URL Context failed: {e}\")\n",
        "    tldr_gemini_url = \"TLDR generation failed.\"\n",
        "    input_tokens_url_gemini = 'Error'\n",
        "    output_tokens_url_gemini = 'Error'\n",
        "\n",
        "end_time = time.time()\n",
        "time_gemini_url = end_time - start_time\n",
        "\n",
        "print(\"\\nTLDR (Gemini URL Context):\")\n",
        "print(tldr_gemini_url)\n",
        "print(f\"Response time: {time_gemini_url:.2f} seconds\")\n",
        "print(f\"Gemini Token Usage (Gemini URL Context):\")\n",
        "print(f\"  Input Tokens: {input_tokens_url_gemini}\")\n",
        "print(f\"  Output Tokens: {output_tokens_url_gemini}\")"
      ],
      "metadata": {
        "id": "-L_AfmPtqqOX",
        "outputId": "0b86ed0c-6805-4fa4-8976-2eb19ab67c3a",
        "colab": {
          "base_uri": "https://localhost:8080/"
        }
      },
      "id": "-L_AfmPtqqOX",
      "execution_count": 26,
      "outputs": [
        {
          "output_type": "stream",
          "name": "stdout",
          "text": [
            "--- Method 1: Firecrawl + Gemini ---\n",
            "Scraping https://marginalrevolution.com with Firecrawl...\n",
            "Length of firecrawl content: 18689\n",
            "Summarizing content with Gemini...\n",
            "\n",
            "TLDR (Firecrawl + Gemini):\n",
            "Here's a TLDR of the markdown content:\n",
            "\n",
            "*   A growing trend in Chinese cities involves companies offering \"pretend work\" spaces for a fee, allowing people to simulate employment, often to hide unemployment from family.\n",
            "*   The author recounts a challenging personal adventure to a remote, indigenous Mexican village to commission and collect folk art directly from a local painter.\n",
            "*   The content also highlights various global issues, including concerns over US government debt, a significant increase in Italian emigration, and the complex dynamics of Mexico's democracy.\n",
            "\n",
            "This compilation covers a range of topics, from a unique social phenomenon in China where individuals pay to simulate employment, to the author's personal tale of intrepid art collecting in a remote Mexican village. It also provides brief insights into broader global socio-economic issues such as US government debt levels, a surge in Italian emigration, and the paradoxical challenges facing Mexico's democratic processes.\n",
            "Response time: 13.55 seconds\n",
            "Gemini Token Usage (Firecrawl + Gemini):\n",
            "  Input Tokens: 5422\n",
            "  Output Tokens: 186\n",
            "\n",
            "==================================================\n",
            "\n",
            "--- Method 2: Gemini URL Context ---\n",
            "\n",
            "TLDR (Gemini URL Context):\n",
            "Here's a TLDR of Marginal Revolution:\n",
            "\n",
            "*   The blog features discussions on a wide range of topics, including current affairs, economics, and social trends.\n",
            "*   Posts often include curated links to external articles, research papers, and news analyses.\n",
            "*   It also contains personal reflections on art, travel, and book reviews.\n",
            "\n",
            "Marginal Revolution, primarily authored by Tyler Cowen and Alex Tabarrok, serves as a dynamic platform for \"small steps toward a much better world.\" It regularly publishes insights and commentary across diverse subjects such as economics, international current affairs, social phenomena, and personal interests like art and travel, often linking to in-depth external analyses and research.\n",
            "Response time: 10.97 seconds\n",
            "Gemini Token Usage (Gemini URL Context):\n",
            "  Input Tokens: 27\n",
            "  Output Tokens: 154\n"
          ]
        }
      ]
    },
    {
      "cell_type": "markdown",
      "id": "25ec8bda",
      "metadata": {
        "id": "25ec8bda"
      },
      "source": [
        "### Code Execution Tool\n",
        "\n",
        "Gemini can execute Python code to perform calculations, create visualizations, and process data."
      ]
    },
    {
      "cell_type": "code",
      "execution_count": 6,
      "id": "d3f5c6f8",
      "metadata": {
        "id": "d3f5c6f8",
        "outputId": "56247f16-d9a0-4044-f4ca-79cc1a380fc8",
        "colab": {
          "base_uri": "https://localhost:8080/",
          "height": 1000
        }
      },
      "outputs": [
        {
          "output_type": "display_data",
          "data": {
            "text/plain": [
              "<IPython.core.display.Markdown object>"
            ],
            "text/markdown": "To create the bar chart, I first need the population data for the 5 largest cities in the world. Please note that city population figures can vary significantly based on whether \"city\" refers to the city proper, urban agglomeration, or metropolitan area, and the year the data was collected.\n\nFor this chart, I will use estimated population data for the top 5 urban agglomerations as of recent years (e.g., late 2022 / early 2023 estimates, commonly cited from sources like the UN or Demographia World Urban Areas).\n\nHere's the data I will use:\n\n| City          | Country     | Population (approx.) |\n| :------------ | :---------- | :------------------- |\n| Tokyo         | Japan       | 37,200,000           |\n| Delhi         | India       | 32,900,000           |\n| Shanghai      | China       | 29,200,000           |\n| Dhaka         | Bangladesh  | 23,200,000           |\n| São Paulo     | Brazil      | 22,600,000           |\n\nNow, I will use `matplotlib` to generate the bar chart.\n\n"
          },
          "metadata": {}
        },
        {
          "output_type": "display_data",
          "data": {
            "text/plain": [
              "<IPython.core.display.Markdown object>"
            ],
            "text/markdown": "```python\nimport matplotlib.pyplot as plt\nimport numpy as np\n\n# Data for the 5 largest cities (approximate urban agglomeration populations)\ncities = ['Tokyo', 'Delhi', 'Shanghai', 'Dhaka', 'São Paulo']\npopulations = [37.2, 32.9, 29.2, 23.2, 22.6] # Populations in millions\n\n# Create a bar chart\nplt.figure(figsize=(10, 6)) # Set the figure size for better readability\nplt.bar(cities, populations, color='skyblue')\n\n# Add titles and labels\nplt.xlabel('City')\nplt.ylabel('Population (Millions)')\nplt.title('Population of the 5 Largest Urban Agglomerations (Approx. 2023)')\n\n# Add grid for better readability\nplt.grid(axis='y', linestyle='--', alpha=0.7)\n\n# Rotate x-axis labels if they are too long\nplt.xticks(rotation=45, ha='right')\n\n# Add data labels on top of the bars\nfor i, pop in enumerate(populations):\n    plt.text(i, pop + 0.5, f'{pop:.1f}M', ha='center', va='bottom', fontsize=9)\n\n\nplt.tight_layout() # Adjust layout to prevent labels from overlapping\nplt.show()\n```"
          },
          "metadata": {}
        },
        {
          "output_type": "display_data",
          "data": {
            "image/png": "[encoded data removed]",
            "text/plain": [
              "<IPython.core.display.Image object>"
            ]
          },
          "metadata": {
            "image/png": {
              "width": 800
            }
          }
        },
        {
          "output_type": "display_data",
          "data": {
            "text/plain": [
              "<IPython.core.display.Markdown object>"
            ],
            "text/markdown": "The bar chart titled \"Population of the 5 Largest Urban Agglomerations (Approx. 2023)\" displays the estimated populations of the five largest urban agglomerations.\n\nHere are the findings from the chart:\n\n*   **Chart Type:** The visualization is a bar chart, which is effective for comparing the magnitudes of different categories.\n*   **X-axis:** The x-axis represents the cities: Tokyo, Delhi, Shanghai, Dhaka, and São Paulo. The city names are rotated for better readability.\n*   **Y-axis:** The y-axis represents the population in millions, ranging from 0 to 37.5 million, with gridlines at 5-million intervals.\n*   **Data Presented:**\n    *   **Tokyo:** Has the largest urban agglomeration population, estimated at **37.2 million**.\n    *   **Delhi:** Is the second largest, with an estimated population of **32.9 million**.\n    *   **Shanghai:** Ranks third, with an estimated population of **29.2 million**.\n    *   **Dhaka:** Comes in fourth, with an estimated population of **23.2 million**.\n    *   **São Paulo:** Is the fifth largest, with an estimated population of **22.6 million**.\n*   **Visual Elements:** Each bar is colored 'skyblue', and data labels showing the exact population in millions (e.g., '37.2M') are placed on top of each bar for easy reference. A horizontal grid further aids in reading the population values."
          },
          "metadata": {}
        }
      ],
      "source": [
        "# Code execution tool\n",
        "code_execution_tool = types.Tool(code_execution={})\n",
        "\n",
        "response = client.models.generate_content(\n",
        "    model=MODEL_ID,\n",
        "    contents=\"Create a bar chart showing the population of the 5 largest cities in the world. Use matplotlib.\",\n",
        "    config=types.GenerateContentConfig(\n",
        "        tools=[code_execution_tool],\n",
        "    )\n",
        ")\n",
        "\n",
        "\n",
        "for p in response.candidates[0].content.parts:\n",
        "    if p.text:\n",
        "        display(Markdown(p.text))\n",
        "    elif p.executable_code:\n",
        "        display(Markdown(f\"```python\\n{p.executable_code.code}\\n```\"))\n",
        "    elif p.inline_data:\n",
        "        display(Image(data=p.inline_data.data, width=800, format=\"png\"))\n"
      ]
    },
    {
      "cell_type": "markdown",
      "id": "151e3b5f",
      "metadata": {
        "id": "151e3b5f"
      },
      "source": [
        "## !! Exercise: Data Analysis with Code Execution !!\n",
        "\n",
        "Combine Google Search and Code Execution tools to find real-world data and then analyze or visualize it using Python code generated and executed by Gemini.\n",
        "\n",
        "Tasks:\n",
        "- Define a prompt that requires both searching for information and then processing/visualizing that information. For example: \"Search for the population of the 5 largest cities in the world and create a bar chart of their populations.\"\n",
        "- Create a `types.Tool` for code execution: `code_execution_tool = types.Tool(code_execution={})`.\n",
        "- Create a `types.Tool` for Google Search: `google_search_tool = types.Tool(google_search=types.GoogleSearch())`.\n",
        "- Call `client.models.generate_content()`:\n",
        "- Iterate through the `response.candidates[0].content.parts` and display the parts."
      ]
    },
    {
      "cell_type": "code",
      "execution_count": null,
      "id": "a0280253",
      "metadata": {
        "id": "a0280253"
      },
      "outputs": [],
      "source": [
        "# TODO:"
      ]
    },
    {
      "cell_type": "markdown",
      "id": "ff79425f",
      "metadata": {
        "id": "ff79425f"
      },
      "source": [
        "## Recap & Next Steps\n",
        "\n",
        "**What You've Learned:**\n",
        "- Structured outputs using Pydantic models for reliable data extraction and validation\n",
        "- Function calling to integrate external APIs, databases, and custom business logic\n",
        "- Native tools including Google Search, URL context analysis, and code execution\n",
        "- Combining multiple tools for comprehensive workflows and complex problem-solving\n",
        "\n",
        "**Key Takeaways:**\n",
        "- Structured outputs ensure consistent data formats for downstream applications\n",
        "- Function calling enables seamless integration with external systems and real-time data\n",
        "- Native tools provide powerful capabilities without additional setup or infrastructure\n",
        "- Tool combinations unlock sophisticated workflows and multi-step problem solving\n",
        "- Proper validation and error handling are crucial for reliable tool interactions\n",
        "\n",
        "**Next Steps:** Continue with [Part 4: Model Context Protocol (MCP)](https://github.com/philschmid/gemini-2.5-ai-engineering-workshop/blob/main/notebooks/04-model-context-protocol-mcp.ipynb) [![Open In Colab](https://colab.research.google.com/assets/colab-badge.svg)](https://colab.research.google.com/github/philschmid/gemini-2.5-ai-engineering-workshop/blob/main/notebooks/04-model-context-protocol-mcp.ipynb)\n",
        "\n",
        "**More Resources:**\n",
        "- [Structured Output Documentation](https://ai.google.dev/gemini-api/docs/structured-output?lang=python)\n",
        "- [Function Calling Documentation](https://ai.google.dev/gemini-api/docs/function-calling?lang=python)\n",
        "- [Grounding with Google Search](https://ai.google.dev/gemini-api/docs/grounding)\n",
        "- [URL Context Tool](https://ai.google.dev/gemini-api/docs/url-context)\n",
        "- [Code Execution Documentation](https://ai.google.dev/gemini-api/docs/code-execution)"
      ]
    }
  ],
  "metadata": {
    "language_info": {
      "name": "python"
    },
    "colab": {
      "provenance": []
    },
    "kernelspec": {
      "name": "python3",
      "display_name": "Python 3"
    }
  },
  "nbformat": 4,
  "nbformat_minor": 5
}